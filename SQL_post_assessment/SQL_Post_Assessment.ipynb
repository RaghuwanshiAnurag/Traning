{
    "metadata": {
        "kernelspec": {
            "name": "SQL",
            "display_name": "SQL",
            "language": "sql"
        },
        "language_info": {
            "name": "sql",
            "version": ""
        }
    },
    "nbformat_minor": 2,
    "nbformat": 4,
    "cells": [
        {
            "cell_type": "code",
            "source": [
                "--Table1\r\n",
                "select job_id, AVG(salary)as Average,MAX(salary)as MAXIMUM,MIN(salary)as MINIMUM\r\n",
                "from employees\r\n",
                "GROUP by job_id"
            ],
            "metadata": {
                "azdata_cell_guid": "a898540e-f6fc-4fd7-b892-4a8c2ce0e3cf",
                "language": "sql"
            },
            "outputs": [
                {
                    "output_type": "display_data",
                    "data": {
                        "text/html": "(19 rows affected)"
                    },
                    "metadata": {}
                },
                {
                    "output_type": "display_data",
                    "data": {
                        "text/html": "Total execution time: 00:00:00.083"
                    },
                    "metadata": {}
                },
                {
                    "output_type": "execute_result",
                    "execution_count": 1,
                    "data": {
                        "application/vnd.dataresource+json": {
                            "schema": {
                                "fields": [
                                    {
                                        "name": "job_id"
                                    },
                                    {
                                        "name": "Average"
                                    },
                                    {
                                        "name": "MAXIMUM"
                                    },
                                    {
                                        "name": "MINIMUM"
                                    }
                                ]
                            },
                            "data": [
                                {
                                    "0": "1",
                                    "1": "8300.000000",
                                    "2": "8300.00",
                                    "3": "8300.00"
                                },
                                {
                                    "0": "2",
                                    "1": "12000.000000",
                                    "2": "12000.00",
                                    "3": "12000.00"
                                },
                                {
                                    "0": "3",
                                    "1": "4400.000000",
                                    "2": "4400.00",
                                    "3": "4400.00"
                                },
                                {
                                    "0": "4",
                                    "1": "24000.000000",
                                    "2": "24000.00",
                                    "3": "24000.00"
                                },
                                {
                                    "0": "5",
                                    "1": "17000.000000",
                                    "2": "17000.00",
                                    "3": "17000.00"
                                },
                                {
                                    "0": "6",
                                    "1": "7920.000000",
                                    "2": "9000.00",
                                    "3": "6900.00"
                                },
                                {
                                    "0": "7",
                                    "1": "12000.000000",
                                    "2": "12000.00",
                                    "3": "12000.00"
                                },
                                {
                                    "0": "8",
                                    "1": "6500.000000",
                                    "2": "6500.00",
                                    "3": "6500.00"
                                },
                                {
                                    "0": "9",
                                    "1": "5760.000000",
                                    "2": "9000.00",
                                    "3": "4200.00"
                                },
                                {
                                    "0": "10",
                                    "1": "13000.000000",
                                    "2": "13000.00",
                                    "3": "13000.00"
                                },
                                {
                                    "0": "11",
                                    "1": "6000.000000",
                                    "2": "6000.00",
                                    "3": "6000.00"
                                },
                                {
                                    "0": "12",
                                    "1": "10000.000000",
                                    "2": "10000.00",
                                    "3": "10000.00"
                                },
                                {
                                    "0": "13",
                                    "1": "2780.000000",
                                    "2": "3100.00",
                                    "3": "2500.00"
                                },
                                {
                                    "0": "14",
                                    "1": "11000.000000",
                                    "2": "11000.00",
                                    "3": "11000.00"
                                },
                                {
                                    "0": "15",
                                    "1": "13750.000000",
                                    "2": "14000.00",
                                    "3": "13500.00"
                                },
                                {
                                    "0": "16",
                                    "1": "7550.000000",
                                    "2": "8600.00",
                                    "3": "6200.00"
                                },
                                {
                                    "0": "17",
                                    "1": "3950.000000",
                                    "2": "4000.00",
                                    "3": "3900.00"
                                },
                                {
                                    "0": "18",
                                    "1": "2700.000000",
                                    "2": "2700.00",
                                    "3": "2700.00"
                                },
                                {
                                    "0": "19",
                                    "1": "7650.000000",
                                    "2": "8200.00",
                                    "3": "6500.00"
                                }
                            ]
                        },
                        "text/html": "<table><tr><th>job_id</th><th>Average</th><th>MAXIMUM</th><th>MINIMUM</th></tr><tr><td>1</td><td>8300.000000</td><td>8300.00</td><td>8300.00</td></tr><tr><td>2</td><td>12000.000000</td><td>12000.00</td><td>12000.00</td></tr><tr><td>3</td><td>4400.000000</td><td>4400.00</td><td>4400.00</td></tr><tr><td>4</td><td>24000.000000</td><td>24000.00</td><td>24000.00</td></tr><tr><td>5</td><td>17000.000000</td><td>17000.00</td><td>17000.00</td></tr><tr><td>6</td><td>7920.000000</td><td>9000.00</td><td>6900.00</td></tr><tr><td>7</td><td>12000.000000</td><td>12000.00</td><td>12000.00</td></tr><tr><td>8</td><td>6500.000000</td><td>6500.00</td><td>6500.00</td></tr><tr><td>9</td><td>5760.000000</td><td>9000.00</td><td>4200.00</td></tr><tr><td>10</td><td>13000.000000</td><td>13000.00</td><td>13000.00</td></tr><tr><td>11</td><td>6000.000000</td><td>6000.00</td><td>6000.00</td></tr><tr><td>12</td><td>10000.000000</td><td>10000.00</td><td>10000.00</td></tr><tr><td>13</td><td>2780.000000</td><td>3100.00</td><td>2500.00</td></tr><tr><td>14</td><td>11000.000000</td><td>11000.00</td><td>11000.00</td></tr><tr><td>15</td><td>13750.000000</td><td>14000.00</td><td>13500.00</td></tr><tr><td>16</td><td>7550.000000</td><td>8600.00</td><td>6200.00</td></tr><tr><td>17</td><td>3950.000000</td><td>4000.00</td><td>3900.00</td></tr><tr><td>18</td><td>2700.000000</td><td>2700.00</td><td>2700.00</td></tr><tr><td>19</td><td>7650.000000</td><td>8200.00</td><td>6500.00</td></tr></table>"
                    },
                    "metadata": {}
                }
            ],
            "execution_count": 1
        },
        {
            "cell_type": "code",
            "source": [
                "--Table2\r\n",
                "select department_name, COUNT(*) as 'Number_of_employee' from employees e \r\n",
                "Inner join departments d \r\n",
                "ON d.department_id = e.department_id \r\n",
                "group by e.department_id,department_name"
            ],
            "metadata": {
                "language": "sql",
                "azdata_cell_guid": "9fd93baf-80ba-4987-9320-6002638af0dd",
                "tags": []
            },
            "outputs": [
                {
                    "output_type": "display_data",
                    "data": {
                        "text/html": "(11 rows affected)"
                    },
                    "metadata": {}
                },
                {
                    "output_type": "display_data",
                    "data": {
                        "text/html": "Total execution time: 00:00:00.010"
                    },
                    "metadata": {}
                },
                {
                    "output_type": "execute_result",
                    "execution_count": 2,
                    "data": {
                        "application/vnd.dataresource+json": {
                            "schema": {
                                "fields": [
                                    {
                                        "name": "department_name"
                                    },
                                    {
                                        "name": "Number_of_employee"
                                    }
                                ]
                            },
                            "data": [
                                {
                                    "0": "Administration",
                                    "1": "1"
                                },
                                {
                                    "0": "Marketing",
                                    "1": "2"
                                },
                                {
                                    "0": "Purchasing",
                                    "1": "6"
                                },
                                {
                                    "0": "Human Resources",
                                    "1": "1"
                                },
                                {
                                    "0": "Shipping",
                                    "1": "7"
                                },
                                {
                                    "0": "IT",
                                    "1": "5"
                                },
                                {
                                    "0": "Public Relations",
                                    "1": "1"
                                },
                                {
                                    "0": "Sales",
                                    "1": "6"
                                },
                                {
                                    "0": "Executive",
                                    "1": "3"
                                },
                                {
                                    "0": "Finance",
                                    "1": "6"
                                },
                                {
                                    "0": "Accounting",
                                    "1": "2"
                                }
                            ]
                        },
                        "text/html": "<table><tr><th>department_name</th><th>Number_of_employee</th></tr><tr><td>Administration</td><td>1</td></tr><tr><td>Marketing</td><td>2</td></tr><tr><td>Purchasing</td><td>6</td></tr><tr><td>Human Resources</td><td>1</td></tr><tr><td>Shipping</td><td>7</td></tr><tr><td>IT</td><td>5</td></tr><tr><td>Public Relations</td><td>1</td></tr><tr><td>Sales</td><td>6</td></tr><tr><td>Executive</td><td>3</td></tr><tr><td>Finance</td><td>6</td></tr><tr><td>Accounting</td><td>2</td></tr></table>"
                    },
                    "metadata": {}
                }
            ],
            "execution_count": 2
        },
        {
            "cell_type": "code",
            "source": [
                "--Table3\r\n",
                "select count(*) as \"count_employees\",w.manager_id from\r\n",
                "employees w, employees m where\r\n",
                "w.manager_id = m.employee_id\r\n",
                "group by w.manager_id order by w.manager_id ASC \r\n",
                "\r\n",
                "//managerName left"
            ],
            "metadata": {
                "language": "sql",
                "azdata_cell_guid": "d738839f-dd9a-426c-a77a-176e6671cd8c"
            },
            "outputs": [
                {
                    "output_type": "display_data",
                    "data": {
                        "text/html": "(10 rows affected)"
                    },
                    "metadata": {}
                },
                {
                    "output_type": "display_data",
                    "data": {
                        "text/html": "Total execution time: 00:00:00.003"
                    },
                    "metadata": {}
                },
                {
                    "output_type": "execute_result",
                    "execution_count": 4,
                    "data": {
                        "application/vnd.dataresource+json": {
                            "schema": {
                                "fields": [
                                    {
                                        "name": "count_employees"
                                    },
                                    {
                                        "name": "manager_id"
                                    }
                                ]
                            },
                            "data": [
                                {
                                    "0": "14",
                                    "1": "100"
                                },
                                {
                                    "0": "5",
                                    "1": "101"
                                },
                                {
                                    "0": "1",
                                    "1": "102"
                                },
                                {
                                    "0": "4",
                                    "1": "103"
                                },
                                {
                                    "0": "5",
                                    "1": "108"
                                },
                                {
                                    "0": "5",
                                    "1": "114"
                                },
                                {
                                    "0": "1",
                                    "1": "120"
                                },
                                {
                                    "0": "2",
                                    "1": "123"
                                },
                                {
                                    "0": "1",
                                    "1": "201"
                                },
                                {
                                    "0": "1",
                                    "1": "205"
                                }
                            ]
                        },
                        "text/html": "<table><tr><th>count_employees</th><th>manager_id</th></tr><tr><td>14</td><td>100</td></tr><tr><td>5</td><td>101</td></tr><tr><td>1</td><td>102</td></tr><tr><td>4</td><td>103</td></tr><tr><td>5</td><td>108</td></tr><tr><td>5</td><td>114</td></tr><tr><td>1</td><td>120</td></tr><tr><td>2</td><td>123</td></tr><tr><td>1</td><td>201</td></tr><tr><td>1</td><td>205</td></tr></table>"
                    },
                    "metadata": {}
                }
            ],
            "execution_count": 4
        },
        {
            "cell_type": "code",
            "source": [
                "--Table4\r\n",
                "select e.last_name, e.department_id,d.department_name from employees e, departments d\r\n",
                "where e.department_id = d.department_id \r\n",
                "order by e.last_name ASC"
            ],
            "metadata": {
                "language": "sql",
                "azdata_cell_guid": "9eeea3fe-38dc-4884-b39a-089e099ba399"
            },
            "outputs": [
                {
                    "output_type": "display_data",
                    "data": {
                        "text/html": "(40 rows affected)"
                    },
                    "metadata": {}
                },
                {
                    "output_type": "display_data",
                    "data": {
                        "text/html": "Total execution time: 00:00:00.007"
                    },
                    "metadata": {}
                },
                {
                    "output_type": "execute_result",
                    "execution_count": 5,
                    "data": {
                        "application/vnd.dataresource+json": {
                            "schema": {
                                "fields": [
                                    {
                                        "name": "last_name"
                                    },
                                    {
                                        "name": "department_id"
                                    },
                                    {
                                        "name": "department_name"
                                    }
                                ]
                            },
                            "data": [
                                {
                                    "0": "Austin",
                                    "1": "6",
                                    "2": "IT"
                                },
                                {
                                    "0": "Baer",
                                    "1": "7",
                                    "2": "Public Relations"
                                },
                                {
                                    "0": "Baida",
                                    "1": "3",
                                    "2": "Purchasing"
                                },
                                {
                                    "0": "Bell",
                                    "1": "5",
                                    "2": "Shipping"
                                },
                                {
                                    "0": "Chen",
                                    "1": "10",
                                    "2": "Finance"
                                },
                                {
                                    "0": "Colmenares",
                                    "1": "3",
                                    "2": "Purchasing"
                                },
                                {
                                    "0": "De Haan",
                                    "1": "9",
                                    "2": "Executive"
                                },
                                {
                                    "0": "Ernst",
                                    "1": "6",
                                    "2": "IT"
                                },
                                {
                                    "0": "Everett",
                                    "1": "5",
                                    "2": "Shipping"
                                },
                                {
                                    "0": "Faviet",
                                    "1": "10",
                                    "2": "Finance"
                                },
                                {
                                    "0": "Fay",
                                    "1": "2",
                                    "2": "Marketing"
                                },
                                {
                                    "0": "Fripp",
                                    "1": "5",
                                    "2": "Shipping"
                                },
                                {
                                    "0": "Gietz",
                                    "1": "11",
                                    "2": "Accounting"
                                },
                                {
                                    "0": "Grant",
                                    "1": "8",
                                    "2": "Sales"
                                },
                                {
                                    "0": "Greenberg",
                                    "1": "10",
                                    "2": "Finance"
                                },
                                {
                                    "0": "Hartstein",
                                    "1": "2",
                                    "2": "Marketing"
                                },
                                {
                                    "0": "Higgins",
                                    "1": "11",
                                    "2": "Accounting"
                                },
                                {
                                    "0": "Himuro",
                                    "1": "3",
                                    "2": "Purchasing"
                                },
                                {
                                    "0": "Hunold",
                                    "1": "6",
                                    "2": "IT"
                                },
                                {
                                    "0": "Johnson",
                                    "1": "8",
                                    "2": "Sales"
                                },
                                {
                                    "0": "Kaufling",
                                    "1": "5",
                                    "2": "Shipping"
                                },
                                {
                                    "0": "Khoo",
                                    "1": "3",
                                    "2": "Purchasing"
                                },
                                {
                                    "0": "King",
                                    "1": "9",
                                    "2": "Executive"
                                },
                                {
                                    "0": "Kochhar",
                                    "1": "9",
                                    "2": "Executive"
                                },
                                {
                                    "0": "Livingston",
                                    "1": "8",
                                    "2": "Sales"
                                },
                                {
                                    "0": "Lorentz",
                                    "1": "6",
                                    "2": "IT"
                                },
                                {
                                    "0": "Mavris",
                                    "1": "4",
                                    "2": "Human Resources"
                                },
                                {
                                    "0": "Mikkilineni",
                                    "1": "5",
                                    "2": "Shipping"
                                },
                                {
                                    "0": "Partners",
                                    "1": "8",
                                    "2": "Sales"
                                },
                                {
                                    "0": "Pataballa",
                                    "1": "6",
                                    "2": "IT"
                                },
                                {
                                    "0": "Popp",
                                    "1": "10",
                                    "2": "Finance"
                                },
                                {
                                    "0": "Raphaely",
                                    "1": "3",
                                    "2": "Purchasing"
                                },
                                {
                                    "0": "Russell",
                                    "1": "8",
                                    "2": "Sales"
                                },
                                {
                                    "0": "Sciarra",
                                    "1": "10",
                                    "2": "Finance"
                                },
                                {
                                    "0": "Taylor",
                                    "1": "8",
                                    "2": "Sales"
                                },
                                {
                                    "0": "Tobias",
                                    "1": "3",
                                    "2": "Purchasing"
                                },
                                {
                                    "0": "Urman",
                                    "1": "10",
                                    "2": "Finance"
                                },
                                {
                                    "0": "Vollman",
                                    "1": "5",
                                    "2": "Shipping"
                                },
                                {
                                    "0": "Weiss",
                                    "1": "5",
                                    "2": "Shipping"
                                },
                                {
                                    "0": "Whalen",
                                    "1": "1",
                                    "2": "Administration"
                                }
                            ]
                        },
                        "text/html": "<table><tr><th>last_name</th><th>department_id</th><th>department_name</th></tr><tr><td>Austin</td><td>6</td><td>IT</td></tr><tr><td>Baer</td><td>7</td><td>Public Relations</td></tr><tr><td>Baida</td><td>3</td><td>Purchasing</td></tr><tr><td>Bell</td><td>5</td><td>Shipping</td></tr><tr><td>Chen</td><td>10</td><td>Finance</td></tr><tr><td>Colmenares</td><td>3</td><td>Purchasing</td></tr><tr><td>De Haan</td><td>9</td><td>Executive</td></tr><tr><td>Ernst</td><td>6</td><td>IT</td></tr><tr><td>Everett</td><td>5</td><td>Shipping</td></tr><tr><td>Faviet</td><td>10</td><td>Finance</td></tr><tr><td>Fay</td><td>2</td><td>Marketing</td></tr><tr><td>Fripp</td><td>5</td><td>Shipping</td></tr><tr><td>Gietz</td><td>11</td><td>Accounting</td></tr><tr><td>Grant</td><td>8</td><td>Sales</td></tr><tr><td>Greenberg</td><td>10</td><td>Finance</td></tr><tr><td>Hartstein</td><td>2</td><td>Marketing</td></tr><tr><td>Higgins</td><td>11</td><td>Accounting</td></tr><tr><td>Himuro</td><td>3</td><td>Purchasing</td></tr><tr><td>Hunold</td><td>6</td><td>IT</td></tr><tr><td>Johnson</td><td>8</td><td>Sales</td></tr><tr><td>Kaufling</td><td>5</td><td>Shipping</td></tr><tr><td>Khoo</td><td>3</td><td>Purchasing</td></tr><tr><td>King</td><td>9</td><td>Executive</td></tr><tr><td>Kochhar</td><td>9</td><td>Executive</td></tr><tr><td>Livingston</td><td>8</td><td>Sales</td></tr><tr><td>Lorentz</td><td>6</td><td>IT</td></tr><tr><td>Mavris</td><td>4</td><td>Human Resources</td></tr><tr><td>Mikkilineni</td><td>5</td><td>Shipping</td></tr><tr><td>Partners</td><td>8</td><td>Sales</td></tr><tr><td>Pataballa</td><td>6</td><td>IT</td></tr><tr><td>Popp</td><td>10</td><td>Finance</td></tr><tr><td>Raphaely</td><td>3</td><td>Purchasing</td></tr><tr><td>Russell</td><td>8</td><td>Sales</td></tr><tr><td>Sciarra</td><td>10</td><td>Finance</td></tr><tr><td>Taylor</td><td>8</td><td>Sales</td></tr><tr><td>Tobias</td><td>3</td><td>Purchasing</td></tr><tr><td>Urman</td><td>10</td><td>Finance</td></tr><tr><td>Vollman</td><td>5</td><td>Shipping</td></tr><tr><td>Weiss</td><td>5</td><td>Shipping</td></tr><tr><td>Whalen</td><td>1</td><td>Administration</td></tr></table>"
                    },
                    "metadata": {}
                }
            ],
            "execution_count": 5
        },
        {
            "cell_type": "code",
            "source": [
                "--Table5"
            ],
            "metadata": {
                "language": "sql",
                "azdata_cell_guid": "fe04b174-33b7-4b0c-b610-7e8dcfaf6fa3"
            },
            "outputs": [],
            "execution_count": null
        },
        {
            "cell_type": "code",
            "source": [
                "--Table6\r\n",
                "select E.last_name,D.department_name,D.location_id,L.city\r\n",
                "from employees E join departments D\r\n",
                "ON ( E.department_id = D.department_id )\r\n",
                "JOIN locations L \r\n",
                "ON D.location_id = L.location_id \r\n",
                " where LOWER(l.city) IN ('Southlake' , 'Seattle')\r\n",
                " order by city DESC"
            ],
            "metadata": {
                "language": "sql",
                "azdata_cell_guid": "05e1fe96-bd0c-44ea-b16c-59fb840f09b5"
            },
            "outputs": [
                {
                    "output_type": "display_data",
                    "data": {
                        "text/html": "(23 rows affected)"
                    },
                    "metadata": {}
                },
                {
                    "output_type": "display_data",
                    "data": {
                        "text/html": "Total execution time: 00:00:00.013"
                    },
                    "metadata": {}
                },
                {
                    "output_type": "execute_result",
                    "execution_count": 7,
                    "data": {
                        "application/vnd.dataresource+json": {
                            "schema": {
                                "fields": [
                                    {
                                        "name": "last_name"
                                    },
                                    {
                                        "name": "department_name"
                                    },
                                    {
                                        "name": "location_id"
                                    },
                                    {
                                        "name": "city"
                                    }
                                ]
                            },
                            "data": [
                                {
                                    "0": "Hunold",
                                    "1": "IT",
                                    "2": "1400",
                                    "3": "Southlake"
                                },
                                {
                                    "0": "Ernst",
                                    "1": "IT",
                                    "2": "1400",
                                    "3": "Southlake"
                                },
                                {
                                    "0": "Austin",
                                    "1": "IT",
                                    "2": "1400",
                                    "3": "Southlake"
                                },
                                {
                                    "0": "Pataballa",
                                    "1": "IT",
                                    "2": "1400",
                                    "3": "Southlake"
                                },
                                {
                                    "0": "Lorentz",
                                    "1": "IT",
                                    "2": "1400",
                                    "3": "Southlake"
                                },
                                {
                                    "0": "Whalen",
                                    "1": "Administration",
                                    "2": "1700",
                                    "3": "Seattle"
                                },
                                {
                                    "0": "Raphaely",
                                    "1": "Purchasing",
                                    "2": "1700",
                                    "3": "Seattle"
                                },
                                {
                                    "0": "Khoo",
                                    "1": "Purchasing",
                                    "2": "1700",
                                    "3": "Seattle"
                                },
                                {
                                    "0": "Baida",
                                    "1": "Purchasing",
                                    "2": "1700",
                                    "3": "Seattle"
                                },
                                {
                                    "0": "Tobias",
                                    "1": "Purchasing",
                                    "2": "1700",
                                    "3": "Seattle"
                                },
                                {
                                    "0": "Himuro",
                                    "1": "Purchasing",
                                    "2": "1700",
                                    "3": "Seattle"
                                },
                                {
                                    "0": "Colmenares",
                                    "1": "Purchasing",
                                    "2": "1700",
                                    "3": "Seattle"
                                },
                                {
                                    "0": "King",
                                    "1": "Executive",
                                    "2": "1700",
                                    "3": "Seattle"
                                },
                                {
                                    "0": "Kochhar",
                                    "1": "Executive",
                                    "2": "1700",
                                    "3": "Seattle"
                                },
                                {
                                    "0": "De Haan",
                                    "1": "Executive",
                                    "2": "1700",
                                    "3": "Seattle"
                                },
                                {
                                    "0": "Greenberg",
                                    "1": "Finance",
                                    "2": "1700",
                                    "3": "Seattle"
                                },
                                {
                                    "0": "Faviet",
                                    "1": "Finance",
                                    "2": "1700",
                                    "3": "Seattle"
                                },
                                {
                                    "0": "Chen",
                                    "1": "Finance",
                                    "2": "1700",
                                    "3": "Seattle"
                                },
                                {
                                    "0": "Sciarra",
                                    "1": "Finance",
                                    "2": "1700",
                                    "3": "Seattle"
                                },
                                {
                                    "0": "Urman",
                                    "1": "Finance",
                                    "2": "1700",
                                    "3": "Seattle"
                                },
                                {
                                    "0": "Popp",
                                    "1": "Finance",
                                    "2": "1700",
                                    "3": "Seattle"
                                },
                                {
                                    "0": "Higgins",
                                    "1": "Accounting",
                                    "2": "1700",
                                    "3": "Seattle"
                                },
                                {
                                    "0": "Gietz",
                                    "1": "Accounting",
                                    "2": "1700",
                                    "3": "Seattle"
                                }
                            ]
                        },
                        "text/html": "<table><tr><th>last_name</th><th>department_name</th><th>location_id</th><th>city</th></tr><tr><td>Hunold</td><td>IT</td><td>1400</td><td>Southlake</td></tr><tr><td>Ernst</td><td>IT</td><td>1400</td><td>Southlake</td></tr><tr><td>Austin</td><td>IT</td><td>1400</td><td>Southlake</td></tr><tr><td>Pataballa</td><td>IT</td><td>1400</td><td>Southlake</td></tr><tr><td>Lorentz</td><td>IT</td><td>1400</td><td>Southlake</td></tr><tr><td>Whalen</td><td>Administration</td><td>1700</td><td>Seattle</td></tr><tr><td>Raphaely</td><td>Purchasing</td><td>1700</td><td>Seattle</td></tr><tr><td>Khoo</td><td>Purchasing</td><td>1700</td><td>Seattle</td></tr><tr><td>Baida</td><td>Purchasing</td><td>1700</td><td>Seattle</td></tr><tr><td>Tobias</td><td>Purchasing</td><td>1700</td><td>Seattle</td></tr><tr><td>Himuro</td><td>Purchasing</td><td>1700</td><td>Seattle</td></tr><tr><td>Colmenares</td><td>Purchasing</td><td>1700</td><td>Seattle</td></tr><tr><td>King</td><td>Executive</td><td>1700</td><td>Seattle</td></tr><tr><td>Kochhar</td><td>Executive</td><td>1700</td><td>Seattle</td></tr><tr><td>De Haan</td><td>Executive</td><td>1700</td><td>Seattle</td></tr><tr><td>Greenberg</td><td>Finance</td><td>1700</td><td>Seattle</td></tr><tr><td>Faviet</td><td>Finance</td><td>1700</td><td>Seattle</td></tr><tr><td>Chen</td><td>Finance</td><td>1700</td><td>Seattle</td></tr><tr><td>Sciarra</td><td>Finance</td><td>1700</td><td>Seattle</td></tr><tr><td>Urman</td><td>Finance</td><td>1700</td><td>Seattle</td></tr><tr><td>Popp</td><td>Finance</td><td>1700</td><td>Seattle</td></tr><tr><td>Higgins</td><td>Accounting</td><td>1700</td><td>Seattle</td></tr><tr><td>Gietz</td><td>Accounting</td><td>1700</td><td>Seattle</td></tr></table>"
                    },
                    "metadata": {}
                }
            ],
            "execution_count": 7
        },
        {
            "cell_type": "code",
            "source": [
                "--Table7\r\n",
                "select last_name,(select department_name from departments d\r\n",
                "WHERE e.department_id = d.department_id) departments from\r\n",
                "employees e order by departments"
            ],
            "metadata": {
                "language": "sql",
                "azdata_cell_guid": "c7918e17-cdc7-4d2e-beca-3359fec30d9e"
            },
            "outputs": [
                {
                    "output_type": "display_data",
                    "data": {
                        "text/html": "(40 rows affected)"
                    },
                    "metadata": {}
                },
                {
                    "output_type": "display_data",
                    "data": {
                        "text/html": "Total execution time: 00:00:00.012"
                    },
                    "metadata": {}
                },
                {
                    "output_type": "execute_result",
                    "execution_count": 8,
                    "data": {
                        "application/vnd.dataresource+json": {
                            "schema": {
                                "fields": [
                                    {
                                        "name": "last_name"
                                    },
                                    {
                                        "name": "departments"
                                    }
                                ]
                            },
                            "data": [
                                {
                                    "0": "Higgins",
                                    "1": "Accounting"
                                },
                                {
                                    "0": "Gietz",
                                    "1": "Accounting"
                                },
                                {
                                    "0": "Whalen",
                                    "1": "Administration"
                                },
                                {
                                    "0": "King",
                                    "1": "Executive"
                                },
                                {
                                    "0": "Kochhar",
                                    "1": "Executive"
                                },
                                {
                                    "0": "De Haan",
                                    "1": "Executive"
                                },
                                {
                                    "0": "Greenberg",
                                    "1": "Finance"
                                },
                                {
                                    "0": "Faviet",
                                    "1": "Finance"
                                },
                                {
                                    "0": "Chen",
                                    "1": "Finance"
                                },
                                {
                                    "0": "Sciarra",
                                    "1": "Finance"
                                },
                                {
                                    "0": "Urman",
                                    "1": "Finance"
                                },
                                {
                                    "0": "Popp",
                                    "1": "Finance"
                                },
                                {
                                    "0": "Mavris",
                                    "1": "Human Resources"
                                },
                                {
                                    "0": "Hunold",
                                    "1": "IT"
                                },
                                {
                                    "0": "Ernst",
                                    "1": "IT"
                                },
                                {
                                    "0": "Austin",
                                    "1": "IT"
                                },
                                {
                                    "0": "Pataballa",
                                    "1": "IT"
                                },
                                {
                                    "0": "Lorentz",
                                    "1": "IT"
                                },
                                {
                                    "0": "Hartstein",
                                    "1": "Marketing"
                                },
                                {
                                    "0": "Fay",
                                    "1": "Marketing"
                                },
                                {
                                    "0": "Baer",
                                    "1": "Public Relations"
                                },
                                {
                                    "0": "Raphaely",
                                    "1": "Purchasing"
                                },
                                {
                                    "0": "Khoo",
                                    "1": "Purchasing"
                                },
                                {
                                    "0": "Baida",
                                    "1": "Purchasing"
                                },
                                {
                                    "0": "Tobias",
                                    "1": "Purchasing"
                                },
                                {
                                    "0": "Himuro",
                                    "1": "Purchasing"
                                },
                                {
                                    "0": "Colmenares",
                                    "1": "Purchasing"
                                },
                                {
                                    "0": "Russell",
                                    "1": "Sales"
                                },
                                {
                                    "0": "Partners",
                                    "1": "Sales"
                                },
                                {
                                    "0": "Taylor",
                                    "1": "Sales"
                                },
                                {
                                    "0": "Livingston",
                                    "1": "Sales"
                                },
                                {
                                    "0": "Grant",
                                    "1": "Sales"
                                },
                                {
                                    "0": "Johnson",
                                    "1": "Sales"
                                },
                                {
                                    "0": "Bell",
                                    "1": "Shipping"
                                },
                                {
                                    "0": "Everett",
                                    "1": "Shipping"
                                },
                                {
                                    "0": "Weiss",
                                    "1": "Shipping"
                                },
                                {
                                    "0": "Fripp",
                                    "1": "Shipping"
                                },
                                {
                                    "0": "Kaufling",
                                    "1": "Shipping"
                                },
                                {
                                    "0": "Vollman",
                                    "1": "Shipping"
                                },
                                {
                                    "0": "Mikkilineni",
                                    "1": "Shipping"
                                }
                            ]
                        },
                        "text/html": "<table><tr><th>last_name</th><th>departments</th></tr><tr><td>Higgins</td><td>Accounting</td></tr><tr><td>Gietz</td><td>Accounting</td></tr><tr><td>Whalen</td><td>Administration</td></tr><tr><td>King</td><td>Executive</td></tr><tr><td>Kochhar</td><td>Executive</td></tr><tr><td>De Haan</td><td>Executive</td></tr><tr><td>Greenberg</td><td>Finance</td></tr><tr><td>Faviet</td><td>Finance</td></tr><tr><td>Chen</td><td>Finance</td></tr><tr><td>Sciarra</td><td>Finance</td></tr><tr><td>Urman</td><td>Finance</td></tr><tr><td>Popp</td><td>Finance</td></tr><tr><td>Mavris</td><td>Human Resources</td></tr><tr><td>Hunold</td><td>IT</td></tr><tr><td>Ernst</td><td>IT</td></tr><tr><td>Austin</td><td>IT</td></tr><tr><td>Pataballa</td><td>IT</td></tr><tr><td>Lorentz</td><td>IT</td></tr><tr><td>Hartstein</td><td>Marketing</td></tr><tr><td>Fay</td><td>Marketing</td></tr><tr><td>Baer</td><td>Public Relations</td></tr><tr><td>Raphaely</td><td>Purchasing</td></tr><tr><td>Khoo</td><td>Purchasing</td></tr><tr><td>Baida</td><td>Purchasing</td></tr><tr><td>Tobias</td><td>Purchasing</td></tr><tr><td>Himuro</td><td>Purchasing</td></tr><tr><td>Colmenares</td><td>Purchasing</td></tr><tr><td>Russell</td><td>Sales</td></tr><tr><td>Partners</td><td>Sales</td></tr><tr><td>Taylor</td><td>Sales</td></tr><tr><td>Livingston</td><td>Sales</td></tr><tr><td>Grant</td><td>Sales</td></tr><tr><td>Johnson</td><td>Sales</td></tr><tr><td>Bell</td><td>Shipping</td></tr><tr><td>Everett</td><td>Shipping</td></tr><tr><td>Weiss</td><td>Shipping</td></tr><tr><td>Fripp</td><td>Shipping</td></tr><tr><td>Kaufling</td><td>Shipping</td></tr><tr><td>Vollman</td><td>Shipping</td></tr><tr><td>Mikkilineni</td><td>Shipping</td></tr></table>"
                    },
                    "metadata": {}
                }
            ],
            "execution_count": 8
        },
        {
            "cell_type": "code",
            "source": [
                "--Table8\r\n",
                "select e.last_name,e.department_id as \"department_number\",d.department_name,j.job_title\r\n",
                "from employees e\r\n",
                "join departments d\r\n",
                "on e.department_id = d.department_id\r\n",
                "join jobs j\r\n",
                "on e.job_id = j.job_id\r\n",
                "where e.department_id In ('9','6','10','3')"
            ],
            "metadata": {
                "language": "sql",
                "azdata_cell_guid": "578dcc7e-50b6-470f-a25c-0c41b5cf56ff"
            },
            "outputs": [
                {
                    "output_type": "display_data",
                    "data": {
                        "text/html": "(20 rows affected)"
                    },
                    "metadata": {}
                },
                {
                    "output_type": "display_data",
                    "data": {
                        "text/html": "Total execution time: 00:00:00.007"
                    },
                    "metadata": {}
                },
                {
                    "output_type": "execute_result",
                    "execution_count": 10,
                    "data": {
                        "application/vnd.dataresource+json": {
                            "schema": {
                                "fields": [
                                    {
                                        "name": "last_name"
                                    },
                                    {
                                        "name": "department_number"
                                    },
                                    {
                                        "name": "department_name"
                                    },
                                    {
                                        "name": "job_title"
                                    }
                                ]
                            },
                            "data": [
                                {
                                    "0": "King",
                                    "1": "9",
                                    "2": "Executive",
                                    "3": "President"
                                },
                                {
                                    "0": "Kochhar",
                                    "1": "9",
                                    "2": "Executive",
                                    "3": "Administration Vice President"
                                },
                                {
                                    "0": "De Haan",
                                    "1": "9",
                                    "2": "Executive",
                                    "3": "Administration Vice President"
                                },
                                {
                                    "0": "Hunold",
                                    "1": "6",
                                    "2": "IT",
                                    "3": "Programmer"
                                },
                                {
                                    "0": "Ernst",
                                    "1": "6",
                                    "2": "IT",
                                    "3": "Programmer"
                                },
                                {
                                    "0": "Austin",
                                    "1": "6",
                                    "2": "IT",
                                    "3": "Programmer"
                                },
                                {
                                    "0": "Pataballa",
                                    "1": "6",
                                    "2": "IT",
                                    "3": "Programmer"
                                },
                                {
                                    "0": "Lorentz",
                                    "1": "6",
                                    "2": "IT",
                                    "3": "Programmer"
                                },
                                {
                                    "0": "Greenberg",
                                    "1": "10",
                                    "2": "Finance",
                                    "3": "Finance Manager"
                                },
                                {
                                    "0": "Faviet",
                                    "1": "10",
                                    "2": "Finance",
                                    "3": "Accountant"
                                },
                                {
                                    "0": "Chen",
                                    "1": "10",
                                    "2": "Finance",
                                    "3": "Accountant"
                                },
                                {
                                    "0": "Sciarra",
                                    "1": "10",
                                    "2": "Finance",
                                    "3": "Accountant"
                                },
                                {
                                    "0": "Urman",
                                    "1": "10",
                                    "2": "Finance",
                                    "3": "Accountant"
                                },
                                {
                                    "0": "Popp",
                                    "1": "10",
                                    "2": "Finance",
                                    "3": "Accountant"
                                },
                                {
                                    "0": "Raphaely",
                                    "1": "3",
                                    "2": "Purchasing",
                                    "3": "Purchasing Manager"
                                },
                                {
                                    "0": "Khoo",
                                    "1": "3",
                                    "2": "Purchasing",
                                    "3": "Purchasing Clerk"
                                },
                                {
                                    "0": "Baida",
                                    "1": "3",
                                    "2": "Purchasing",
                                    "3": "Purchasing Clerk"
                                },
                                {
                                    "0": "Tobias",
                                    "1": "3",
                                    "2": "Purchasing",
                                    "3": "Purchasing Clerk"
                                },
                                {
                                    "0": "Himuro",
                                    "1": "3",
                                    "2": "Purchasing",
                                    "3": "Purchasing Clerk"
                                },
                                {
                                    "0": "Colmenares",
                                    "1": "3",
                                    "2": "Purchasing",
                                    "3": "Purchasing Clerk"
                                }
                            ]
                        },
                        "text/html": "<table><tr><th>last_name</th><th>department_number</th><th>department_name</th><th>job_title</th></tr><tr><td>King</td><td>9</td><td>Executive</td><td>President</td></tr><tr><td>Kochhar</td><td>9</td><td>Executive</td><td>Administration Vice President</td></tr><tr><td>De Haan</td><td>9</td><td>Executive</td><td>Administration Vice President</td></tr><tr><td>Hunold</td><td>6</td><td>IT</td><td>Programmer</td></tr><tr><td>Ernst</td><td>6</td><td>IT</td><td>Programmer</td></tr><tr><td>Austin</td><td>6</td><td>IT</td><td>Programmer</td></tr><tr><td>Pataballa</td><td>6</td><td>IT</td><td>Programmer</td></tr><tr><td>Lorentz</td><td>6</td><td>IT</td><td>Programmer</td></tr><tr><td>Greenberg</td><td>10</td><td>Finance</td><td>Finance Manager</td></tr><tr><td>Faviet</td><td>10</td><td>Finance</td><td>Accountant</td></tr><tr><td>Chen</td><td>10</td><td>Finance</td><td>Accountant</td></tr><tr><td>Sciarra</td><td>10</td><td>Finance</td><td>Accountant</td></tr><tr><td>Urman</td><td>10</td><td>Finance</td><td>Accountant</td></tr><tr><td>Popp</td><td>10</td><td>Finance</td><td>Accountant</td></tr><tr><td>Raphaely</td><td>3</td><td>Purchasing</td><td>Purchasing Manager</td></tr><tr><td>Khoo</td><td>3</td><td>Purchasing</td><td>Purchasing Clerk</td></tr><tr><td>Baida</td><td>3</td><td>Purchasing</td><td>Purchasing Clerk</td></tr><tr><td>Tobias</td><td>3</td><td>Purchasing</td><td>Purchasing Clerk</td></tr><tr><td>Himuro</td><td>3</td><td>Purchasing</td><td>Purchasing Clerk</td></tr><tr><td>Colmenares</td><td>3</td><td>Purchasing</td><td>Purchasing Clerk</td></tr></table>"
                    },
                    "metadata": {}
                }
            ],
            "execution_count": 10
        },
        {
            "cell_type": "code",
            "source": [
                "--Table9\r\n",
                "select e.last_name as \"Employee Name\",e.employee_id as \"Employee Number\", m.first_name as \"manager\",m.manager_id as \"manager Number\"\r\n",
                "from employees e join employees m\r\n",
                "on e.manager_id = m.employee_id\r\n",
                "where e.employee_id between 101 and 117"
            ],
            "metadata": {
                "language": "sql",
                "azdata_cell_guid": "d9b87f02-bbe5-4ff7-959e-0c684e6cfabf"
            },
            "outputs": [
                {
                    "output_type": "display_data",
                    "data": {
                        "text/html": "(17 rows affected)"
                    },
                    "metadata": {}
                },
                {
                    "output_type": "display_data",
                    "data": {
                        "text/html": "Total execution time: 00:00:00.007"
                    },
                    "metadata": {}
                },
                {
                    "output_type": "execute_result",
                    "execution_count": 11,
                    "data": {
                        "application/vnd.dataresource+json": {
                            "schema": {
                                "fields": [
                                    {
                                        "name": "Employee Name"
                                    },
                                    {
                                        "name": "Employee Number"
                                    },
                                    {
                                        "name": "manager"
                                    },
                                    {
                                        "name": "manager Number"
                                    }
                                ]
                            },
                            "data": [
                                {
                                    "0": "Kochhar",
                                    "1": "101",
                                    "2": "Steven",
                                    "3": "NULL"
                                },
                                {
                                    "0": "De Haan",
                                    "1": "102",
                                    "2": "Steven",
                                    "3": "NULL"
                                },
                                {
                                    "0": "Hunold",
                                    "1": "103",
                                    "2": "Lex",
                                    "3": "100"
                                },
                                {
                                    "0": "Ernst",
                                    "1": "104",
                                    "2": "Alexander",
                                    "3": "102"
                                },
                                {
                                    "0": "Austin",
                                    "1": "105",
                                    "2": "Alexander",
                                    "3": "102"
                                },
                                {
                                    "0": "Pataballa",
                                    "1": "106",
                                    "2": "Alexander",
                                    "3": "102"
                                },
                                {
                                    "0": "Lorentz",
                                    "1": "107",
                                    "2": "Alexander",
                                    "3": "102"
                                },
                                {
                                    "0": "Greenberg",
                                    "1": "108",
                                    "2": "Neena",
                                    "3": "100"
                                },
                                {
                                    "0": "Faviet",
                                    "1": "109",
                                    "2": "Nancy",
                                    "3": "101"
                                },
                                {
                                    "0": "Chen",
                                    "1": "110",
                                    "2": "Nancy",
                                    "3": "101"
                                },
                                {
                                    "0": "Sciarra",
                                    "1": "111",
                                    "2": "Nancy",
                                    "3": "101"
                                },
                                {
                                    "0": "Urman",
                                    "1": "112",
                                    "2": "Nancy",
                                    "3": "101"
                                },
                                {
                                    "0": "Popp",
                                    "1": "113",
                                    "2": "Nancy",
                                    "3": "101"
                                },
                                {
                                    "0": "Raphaely",
                                    "1": "114",
                                    "2": "Steven",
                                    "3": "NULL"
                                },
                                {
                                    "0": "Khoo",
                                    "1": "115",
                                    "2": "Den",
                                    "3": "100"
                                },
                                {
                                    "0": "Baida",
                                    "1": "116",
                                    "2": "Den",
                                    "3": "100"
                                },
                                {
                                    "0": "Tobias",
                                    "1": "117",
                                    "2": "Den",
                                    "3": "100"
                                }
                            ]
                        },
                        "text/html": "<table><tr><th>Employee Name</th><th>Employee Number</th><th>manager</th><th>manager Number</th></tr><tr><td>Kochhar</td><td>101</td><td>Steven</td><td>NULL</td></tr><tr><td>De Haan</td><td>102</td><td>Steven</td><td>NULL</td></tr><tr><td>Hunold</td><td>103</td><td>Lex</td><td>100</td></tr><tr><td>Ernst</td><td>104</td><td>Alexander</td><td>102</td></tr><tr><td>Austin</td><td>105</td><td>Alexander</td><td>102</td></tr><tr><td>Pataballa</td><td>106</td><td>Alexander</td><td>102</td></tr><tr><td>Lorentz</td><td>107</td><td>Alexander</td><td>102</td></tr><tr><td>Greenberg</td><td>108</td><td>Neena</td><td>100</td></tr><tr><td>Faviet</td><td>109</td><td>Nancy</td><td>101</td></tr><tr><td>Chen</td><td>110</td><td>Nancy</td><td>101</td></tr><tr><td>Sciarra</td><td>111</td><td>Nancy</td><td>101</td></tr><tr><td>Urman</td><td>112</td><td>Nancy</td><td>101</td></tr><tr><td>Popp</td><td>113</td><td>Nancy</td><td>101</td></tr><tr><td>Raphaely</td><td>114</td><td>Steven</td><td>NULL</td></tr><tr><td>Khoo</td><td>115</td><td>Den</td><td>100</td></tr><tr><td>Baida</td><td>116</td><td>Den</td><td>100</td></tr><tr><td>Tobias</td><td>117</td><td>Den</td><td>100</td></tr></table>"
                    },
                    "metadata": {}
                }
            ],
            "execution_count": 11
        },
        {
            "cell_type": "code",
            "source": [
                "--Table10\r\n",
                "select e.last_name,d.department_id from employees e \r\n",
                "join departments d ON e.department_id = d.department_id\r\n",
                "order by e.last_name ASC"
            ],
            "metadata": {
                "language": "sql",
                "azdata_cell_guid": "0e30701b-d7eb-40e3-9981-164d2a1b4c67"
            },
            "outputs": [
                {
                    "output_type": "display_data",
                    "data": {
                        "text/html": "(40 rows affected)"
                    },
                    "metadata": {}
                },
                {
                    "output_type": "display_data",
                    "data": {
                        "text/html": "Total execution time: 00:00:00.014"
                    },
                    "metadata": {}
                },
                {
                    "output_type": "execute_result",
                    "execution_count": 12,
                    "data": {
                        "application/vnd.dataresource+json": {
                            "schema": {
                                "fields": [
                                    {
                                        "name": "last_name"
                                    },
                                    {
                                        "name": "department_name"
                                    }
                                ]
                            },
                            "data": [
                                {
                                    "0": "King",
                                    "1": "Executive"
                                },
                                {
                                    "0": "Kochhar",
                                    "1": "Executive"
                                },
                                {
                                    "0": "De Haan",
                                    "1": "Executive"
                                },
                                {
                                    "0": "Hunold",
                                    "1": "IT"
                                },
                                {
                                    "0": "Ernst",
                                    "1": "IT"
                                },
                                {
                                    "0": "Austin",
                                    "1": "IT"
                                },
                                {
                                    "0": "Pataballa",
                                    "1": "IT"
                                },
                                {
                                    "0": "Lorentz",
                                    "1": "IT"
                                },
                                {
                                    "0": "Greenberg",
                                    "1": "Finance"
                                },
                                {
                                    "0": "Faviet",
                                    "1": "Finance"
                                },
                                {
                                    "0": "Chen",
                                    "1": "Finance"
                                },
                                {
                                    "0": "Sciarra",
                                    "1": "Finance"
                                },
                                {
                                    "0": "Urman",
                                    "1": "Finance"
                                },
                                {
                                    "0": "Popp",
                                    "1": "Finance"
                                },
                                {
                                    "0": "Raphaely",
                                    "1": "Purchasing"
                                },
                                {
                                    "0": "Khoo",
                                    "1": "Purchasing"
                                },
                                {
                                    "0": "Baida",
                                    "1": "Purchasing"
                                },
                                {
                                    "0": "Tobias",
                                    "1": "Purchasing"
                                },
                                {
                                    "0": "Himuro",
                                    "1": "Purchasing"
                                },
                                {
                                    "0": "Colmenares",
                                    "1": "Purchasing"
                                },
                                {
                                    "0": "Weiss",
                                    "1": "Shipping"
                                },
                                {
                                    "0": "Fripp",
                                    "1": "Shipping"
                                },
                                {
                                    "0": "Kaufling",
                                    "1": "Shipping"
                                },
                                {
                                    "0": "Vollman",
                                    "1": "Shipping"
                                },
                                {
                                    "0": "Mikkilineni",
                                    "1": "Shipping"
                                },
                                {
                                    "0": "Russell",
                                    "1": "Sales"
                                },
                                {
                                    "0": "Partners",
                                    "1": "Sales"
                                },
                                {
                                    "0": "Taylor",
                                    "1": "Sales"
                                },
                                {
                                    "0": "Livingston",
                                    "1": "Sales"
                                },
                                {
                                    "0": "Grant",
                                    "1": "Sales"
                                },
                                {
                                    "0": "Johnson",
                                    "1": "Sales"
                                },
                                {
                                    "0": "Bell",
                                    "1": "Shipping"
                                },
                                {
                                    "0": "Everett",
                                    "1": "Shipping"
                                },
                                {
                                    "0": "Whalen",
                                    "1": "Administration"
                                },
                                {
                                    "0": "Hartstein",
                                    "1": "Marketing"
                                },
                                {
                                    "0": "Fay",
                                    "1": "Marketing"
                                },
                                {
                                    "0": "Mavris",
                                    "1": "Human Resources"
                                },
                                {
                                    "0": "Baer",
                                    "1": "Public Relations"
                                },
                                {
                                    "0": "Higgins",
                                    "1": "Accounting"
                                },
                                {
                                    "0": "Gietz",
                                    "1": "Accounting"
                                }
                            ]
                        },
                        "text/html": "<table><tr><th>last_name</th><th>department_name</th></tr><tr><td>King</td><td>Executive</td></tr><tr><td>Kochhar</td><td>Executive</td></tr><tr><td>De Haan</td><td>Executive</td></tr><tr><td>Hunold</td><td>IT</td></tr><tr><td>Ernst</td><td>IT</td></tr><tr><td>Austin</td><td>IT</td></tr><tr><td>Pataballa</td><td>IT</td></tr><tr><td>Lorentz</td><td>IT</td></tr><tr><td>Greenberg</td><td>Finance</td></tr><tr><td>Faviet</td><td>Finance</td></tr><tr><td>Chen</td><td>Finance</td></tr><tr><td>Sciarra</td><td>Finance</td></tr><tr><td>Urman</td><td>Finance</td></tr><tr><td>Popp</td><td>Finance</td></tr><tr><td>Raphaely</td><td>Purchasing</td></tr><tr><td>Khoo</td><td>Purchasing</td></tr><tr><td>Baida</td><td>Purchasing</td></tr><tr><td>Tobias</td><td>Purchasing</td></tr><tr><td>Himuro</td><td>Purchasing</td></tr><tr><td>Colmenares</td><td>Purchasing</td></tr><tr><td>Weiss</td><td>Shipping</td></tr><tr><td>Fripp</td><td>Shipping</td></tr><tr><td>Kaufling</td><td>Shipping</td></tr><tr><td>Vollman</td><td>Shipping</td></tr><tr><td>Mikkilineni</td><td>Shipping</td></tr><tr><td>Russell</td><td>Sales</td></tr><tr><td>Partners</td><td>Sales</td></tr><tr><td>Taylor</td><td>Sales</td></tr><tr><td>Livingston</td><td>Sales</td></tr><tr><td>Grant</td><td>Sales</td></tr><tr><td>Johnson</td><td>Sales</td></tr><tr><td>Bell</td><td>Shipping</td></tr><tr><td>Everett</td><td>Shipping</td></tr><tr><td>Whalen</td><td>Administration</td></tr><tr><td>Hartstein</td><td>Marketing</td></tr><tr><td>Fay</td><td>Marketing</td></tr><tr><td>Mavris</td><td>Human Resources</td></tr><tr><td>Baer</td><td>Public Relations</td></tr><tr><td>Higgins</td><td>Accounting</td></tr><tr><td>Gietz</td><td>Accounting</td></tr></table>"
                    },
                    "metadata": {}
                }
            ],
            "execution_count": 12
        },
        {
            "cell_type": "code",
            "source": [
                "--Table11\r\n",
                "select e.first_name+''+e.last_name AS \"Name\",j.job_title,e.department_id,e.salary\r\n",
                "from employees e\r\n",
                "join jobs j\r\n",
                "on e.job_id = j.job_id"
            ],
            "metadata": {
                "language": "sql",
                "azdata_cell_guid": "73720061-d5ea-41e6-8d52-28aa0966c787"
            },
            "outputs": [
                {
                    "output_type": "display_data",
                    "data": {
                        "text/html": "(40 rows affected)"
                    },
                    "metadata": {}
                },
                {
                    "output_type": "display_data",
                    "data": {
                        "text/html": "Total execution time: 00:00:00.007"
                    },
                    "metadata": {}
                },
                {
                    "output_type": "execute_result",
                    "metadata": {},
                    "execution_count": 1,
                    "data": {
                        "application/vnd.dataresource+json": {
                            "schema": {
                                "fields": [
                                    {
                                        "name": "Name"
                                    },
                                    {
                                        "name": "job_title"
                                    },
                                    {
                                        "name": "department_id"
                                    },
                                    {
                                        "name": "salary"
                                    }
                                ]
                            },
                            "data": [
                                {
                                    "0": "StevenKing",
                                    "1": "President",
                                    "2": "9",
                                    "3": "24000.00"
                                },
                                {
                                    "0": "NeenaKochhar",
                                    "1": "Administration Vice President",
                                    "2": "9",
                                    "3": "17000.00"
                                },
                                {
                                    "0": "LexDe Haan",
                                    "1": "Administration Vice President",
                                    "2": "9",
                                    "3": "17000.00"
                                },
                                {
                                    "0": "AlexanderHunold",
                                    "1": "Programmer",
                                    "2": "6",
                                    "3": "9000.00"
                                },
                                {
                                    "0": "BruceErnst",
                                    "1": "Programmer",
                                    "2": "6",
                                    "3": "6000.00"
                                },
                                {
                                    "0": "DavidAustin",
                                    "1": "Programmer",
                                    "2": "6",
                                    "3": "4800.00"
                                },
                                {
                                    "0": "ValliPataballa",
                                    "1": "Programmer",
                                    "2": "6",
                                    "3": "4800.00"
                                },
                                {
                                    "0": "DianaLorentz",
                                    "1": "Programmer",
                                    "2": "6",
                                    "3": "4200.00"
                                },
                                {
                                    "0": "NancyGreenberg",
                                    "1": "Finance Manager",
                                    "2": "10",
                                    "3": "12000.00"
                                },
                                {
                                    "0": "DanielFaviet",
                                    "1": "Accountant",
                                    "2": "10",
                                    "3": "9000.00"
                                },
                                {
                                    "0": "JohnChen",
                                    "1": "Accountant",
                                    "2": "10",
                                    "3": "8200.00"
                                },
                                {
                                    "0": "IsmaelSciarra",
                                    "1": "Accountant",
                                    "2": "10",
                                    "3": "7700.00"
                                },
                                {
                                    "0": "Jose ManuelUrman",
                                    "1": "Accountant",
                                    "2": "10",
                                    "3": "7800.00"
                                },
                                {
                                    "0": "LuisPopp",
                                    "1": "Accountant",
                                    "2": "10",
                                    "3": "6900.00"
                                },
                                {
                                    "0": "DenRaphaely",
                                    "1": "Purchasing Manager",
                                    "2": "3",
                                    "3": "11000.00"
                                },
                                {
                                    "0": "AlexanderKhoo",
                                    "1": "Purchasing Clerk",
                                    "2": "3",
                                    "3": "3100.00"
                                },
                                {
                                    "0": "ShelliBaida",
                                    "1": "Purchasing Clerk",
                                    "2": "3",
                                    "3": "2900.00"
                                },
                                {
                                    "0": "SigalTobias",
                                    "1": "Purchasing Clerk",
                                    "2": "3",
                                    "3": "2800.00"
                                },
                                {
                                    "0": "GuyHimuro",
                                    "1": "Purchasing Clerk",
                                    "2": "3",
                                    "3": "2600.00"
                                },
                                {
                                    "0": "KarenColmenares",
                                    "1": "Purchasing Clerk",
                                    "2": "3",
                                    "3": "2500.00"
                                },
                                {
                                    "0": "MatthewWeiss",
                                    "1": "Stock Manager",
                                    "2": "5",
                                    "3": "8000.00"
                                },
                                {
                                    "0": "AdamFripp",
                                    "1": "Stock Manager",
                                    "2": "5",
                                    "3": "8200.00"
                                },
                                {
                                    "0": "PayamKaufling",
                                    "1": "Stock Manager",
                                    "2": "5",
                                    "3": "7900.00"
                                },
                                {
                                    "0": "ShantaVollman",
                                    "1": "Stock Manager",
                                    "2": "5",
                                    "3": "6500.00"
                                },
                                {
                                    "0": "IreneMikkilineni",
                                    "1": "Stock Clerk",
                                    "2": "5",
                                    "3": "2700.00"
                                },
                                {
                                    "0": "JohnRussell",
                                    "1": "Sales Manager",
                                    "2": "8",
                                    "3": "14000.00"
                                },
                                {
                                    "0": "KarenPartners",
                                    "1": "Sales Manager",
                                    "2": "8",
                                    "3": "13500.00"
                                },
                                {
                                    "0": "JonathonTaylor",
                                    "1": "Sales Representative",
                                    "2": "8",
                                    "3": "8600.00"
                                },
                                {
                                    "0": "JackLivingston",
                                    "1": "Sales Representative",
                                    "2": "8",
                                    "3": "8400.00"
                                },
                                {
                                    "0": "KimberelyGrant",
                                    "1": "Sales Representative",
                                    "2": "8",
                                    "3": "7000.00"
                                },
                                {
                                    "0": "CharlesJohnson",
                                    "1": "Sales Representative",
                                    "2": "8",
                                    "3": "6200.00"
                                },
                                {
                                    "0": "SarahBell",
                                    "1": "Shipping Clerk",
                                    "2": "5",
                                    "3": "4000.00"
                                },
                                {
                                    "0": "BritneyEverett",
                                    "1": "Shipping Clerk",
                                    "2": "5",
                                    "3": "3900.00"
                                },
                                {
                                    "0": "JenniferWhalen",
                                    "1": "Administration Assistant",
                                    "2": "1",
                                    "3": "4400.00"
                                },
                                {
                                    "0": "MichaelHartstein",
                                    "1": "Marketing Manager",
                                    "2": "2",
                                    "3": "13000.00"
                                },
                                {
                                    "0": "PatFay",
                                    "1": "Marketing Representative",
                                    "2": "2",
                                    "3": "6000.00"
                                },
                                {
                                    "0": "SusanMavris",
                                    "1": "Human Resources Representative",
                                    "2": "4",
                                    "3": "6500.00"
                                },
                                {
                                    "0": "HermannBaer",
                                    "1": "Public Relations Representative",
                                    "2": "7",
                                    "3": "10000.00"
                                },
                                {
                                    "0": "ShelleyHiggins",
                                    "1": "Accounting Manager",
                                    "2": "11",
                                    "3": "12000.00"
                                },
                                {
                                    "0": "WilliamGietz",
                                    "1": "Public Accountant",
                                    "2": "11",
                                    "3": "8300.00"
                                }
                            ]
                        },
                        "text/html": [
                            "<table>",
                            "<tr><th>Name</th><th>job_title</th><th>department_id</th><th>salary</th></tr>",
                            "<tr><td>StevenKing</td><td>President</td><td>9</td><td>24000.00</td></tr>",
                            "<tr><td>NeenaKochhar</td><td>Administration Vice President</td><td>9</td><td>17000.00</td></tr>",
                            "<tr><td>LexDe Haan</td><td>Administration Vice President</td><td>9</td><td>17000.00</td></tr>",
                            "<tr><td>AlexanderHunold</td><td>Programmer</td><td>6</td><td>9000.00</td></tr>",
                            "<tr><td>BruceErnst</td><td>Programmer</td><td>6</td><td>6000.00</td></tr>",
                            "<tr><td>DavidAustin</td><td>Programmer</td><td>6</td><td>4800.00</td></tr>",
                            "<tr><td>ValliPataballa</td><td>Programmer</td><td>6</td><td>4800.00</td></tr>",
                            "<tr><td>DianaLorentz</td><td>Programmer</td><td>6</td><td>4200.00</td></tr>",
                            "<tr><td>NancyGreenberg</td><td>Finance Manager</td><td>10</td><td>12000.00</td></tr>",
                            "<tr><td>DanielFaviet</td><td>Accountant</td><td>10</td><td>9000.00</td></tr>",
                            "<tr><td>JohnChen</td><td>Accountant</td><td>10</td><td>8200.00</td></tr>",
                            "<tr><td>IsmaelSciarra</td><td>Accountant</td><td>10</td><td>7700.00</td></tr>",
                            "<tr><td>Jose ManuelUrman</td><td>Accountant</td><td>10</td><td>7800.00</td></tr>",
                            "<tr><td>LuisPopp</td><td>Accountant</td><td>10</td><td>6900.00</td></tr>",
                            "<tr><td>DenRaphaely</td><td>Purchasing Manager</td><td>3</td><td>11000.00</td></tr>",
                            "<tr><td>AlexanderKhoo</td><td>Purchasing Clerk</td><td>3</td><td>3100.00</td></tr>",
                            "<tr><td>ShelliBaida</td><td>Purchasing Clerk</td><td>3</td><td>2900.00</td></tr>",
                            "<tr><td>SigalTobias</td><td>Purchasing Clerk</td><td>3</td><td>2800.00</td></tr>",
                            "<tr><td>GuyHimuro</td><td>Purchasing Clerk</td><td>3</td><td>2600.00</td></tr>",
                            "<tr><td>KarenColmenares</td><td>Purchasing Clerk</td><td>3</td><td>2500.00</td></tr>",
                            "<tr><td>MatthewWeiss</td><td>Stock Manager</td><td>5</td><td>8000.00</td></tr>",
                            "<tr><td>AdamFripp</td><td>Stock Manager</td><td>5</td><td>8200.00</td></tr>",
                            "<tr><td>PayamKaufling</td><td>Stock Manager</td><td>5</td><td>7900.00</td></tr>",
                            "<tr><td>ShantaVollman</td><td>Stock Manager</td><td>5</td><td>6500.00</td></tr>",
                            "<tr><td>IreneMikkilineni</td><td>Stock Clerk</td><td>5</td><td>2700.00</td></tr>",
                            "<tr><td>JohnRussell</td><td>Sales Manager</td><td>8</td><td>14000.00</td></tr>",
                            "<tr><td>KarenPartners</td><td>Sales Manager</td><td>8</td><td>13500.00</td></tr>",
                            "<tr><td>JonathonTaylor</td><td>Sales Representative</td><td>8</td><td>8600.00</td></tr>",
                            "<tr><td>JackLivingston</td><td>Sales Representative</td><td>8</td><td>8400.00</td></tr>",
                            "<tr><td>KimberelyGrant</td><td>Sales Representative</td><td>8</td><td>7000.00</td></tr>",
                            "<tr><td>CharlesJohnson</td><td>Sales Representative</td><td>8</td><td>6200.00</td></tr>",
                            "<tr><td>SarahBell</td><td>Shipping Clerk</td><td>5</td><td>4000.00</td></tr>",
                            "<tr><td>BritneyEverett</td><td>Shipping Clerk</td><td>5</td><td>3900.00</td></tr>",
                            "<tr><td>JenniferWhalen</td><td>Administration Assistant</td><td>1</td><td>4400.00</td></tr>",
                            "<tr><td>MichaelHartstein</td><td>Marketing Manager</td><td>2</td><td>13000.00</td></tr>",
                            "<tr><td>PatFay</td><td>Marketing Representative</td><td>2</td><td>6000.00</td></tr>",
                            "<tr><td>SusanMavris</td><td>Human Resources Representative</td><td>4</td><td>6500.00</td></tr>",
                            "<tr><td>HermannBaer</td><td>Public Relations Representative</td><td>7</td><td>10000.00</td></tr>",
                            "<tr><td>ShelleyHiggins</td><td>Accounting Manager</td><td>11</td><td>12000.00</td></tr>",
                            "<tr><td>WilliamGietz</td><td>Public Accountant</td><td>11</td><td>8300.00</td></tr>",
                            "</table>"
                        ]
                    }
                }
            ],
            "execution_count": 1
        },
        {
            "cell_type": "code",
            "source": [
                "----- Sub-QUERY Section -----\r\n",
                "--Table1\r\n",
                "select last_name, hire_date \r\n",
                "from employees\r\n",
                "where hire_date = any\r\n",
                "(select hire_date from employees where last_name IN \r\n",
                "('Russell','Partners','Taylor','Livingston','Grant','Johnson') )"
            ],
            "metadata": {
                "language": "sql",
                "azdata_cell_guid": "6f61c48b-b8ba-4bff-9bbc-b9ad123cca4c"
            },
            "outputs": [
                {
                    "output_type": "display_data",
                    "data": {
                        "text/html": "(6 rows affected)"
                    },
                    "metadata": {}
                },
                {
                    "output_type": "display_data",
                    "data": {
                        "text/html": "Total execution time: 00:00:00.009"
                    },
                    "metadata": {}
                },
                {
                    "output_type": "execute_result",
                    "execution_count": 13,
                    "data": {
                        "application/vnd.dataresource+json": {
                            "schema": {
                                "fields": [
                                    {
                                        "name": "last_name"
                                    },
                                    {
                                        "name": "hire_date"
                                    }
                                ]
                            },
                            "data": [
                                {
                                    "0": "Russell",
                                    "1": "1996-10-01"
                                },
                                {
                                    "0": "Partners",
                                    "1": "1997-01-05"
                                },
                                {
                                    "0": "Taylor",
                                    "1": "1998-03-24"
                                },
                                {
                                    "0": "Livingston",
                                    "1": "1998-04-23"
                                },
                                {
                                    "0": "Grant",
                                    "1": "1999-05-24"
                                },
                                {
                                    "0": "Johnson",
                                    "1": "2000-01-04"
                                }
                            ]
                        },
                        "text/html": "<table><tr><th>last_name</th><th>hire_date</th></tr><tr><td>Russell</td><td>1996-10-01</td></tr><tr><td>Partners</td><td>1997-01-05</td></tr><tr><td>Taylor</td><td>1998-03-24</td></tr><tr><td>Livingston</td><td>1998-04-23</td></tr><tr><td>Grant</td><td>1999-05-24</td></tr><tr><td>Johnson</td><td>2000-01-04</td></tr></table>"
                    },
                    "metadata": {}
                }
            ],
            "execution_count": 13
        },
        {
            "cell_type": "code",
            "source": [
                "--Table2\r\n",
                "select employee_id,first_name,salary \r\n",
                "from employees\r\n",
                "where salary between 8200 and 24000 \r\n",
                "order by salary ASC"
            ],
            "metadata": {
                "language": "sql",
                "azdata_cell_guid": "1e1ca5d1-cc8d-47e6-9ca6-39125317f91c"
            },
            "outputs": [
                {
                    "output_type": "display_data",
                    "data": {
                        "text/html": "(17 rows affected)"
                    },
                    "metadata": {}
                },
                {
                    "output_type": "display_data",
                    "data": {
                        "text/html": "Total execution time: 00:00:00.007"
                    },
                    "metadata": {}
                },
                {
                    "output_type": "execute_result",
                    "execution_count": 14,
                    "data": {
                        "application/vnd.dataresource+json": {
                            "schema": {
                                "fields": [
                                    {
                                        "name": "employee_id"
                                    },
                                    {
                                        "name": "first_name"
                                    },
                                    {
                                        "name": "salary"
                                    }
                                ]
                            },
                            "data": [
                                {
                                    "0": "110",
                                    "1": "John",
                                    "2": "8200.00"
                                },
                                {
                                    "0": "121",
                                    "1": "Adam",
                                    "2": "8200.00"
                                },
                                {
                                    "0": "206",
                                    "1": "William",
                                    "2": "8300.00"
                                },
                                {
                                    "0": "177",
                                    "1": "Jack",
                                    "2": "8400.00"
                                },
                                {
                                    "0": "176",
                                    "1": "Jonathon",
                                    "2": "8600.00"
                                },
                                {
                                    "0": "109",
                                    "1": "Daniel",
                                    "2": "9000.00"
                                },
                                {
                                    "0": "103",
                                    "1": "Alexander",
                                    "2": "9000.00"
                                },
                                {
                                    "0": "204",
                                    "1": "Hermann",
                                    "2": "10000.00"
                                },
                                {
                                    "0": "114",
                                    "1": "Den",
                                    "2": "11000.00"
                                },
                                {
                                    "0": "108",
                                    "1": "Nancy",
                                    "2": "12000.00"
                                },
                                {
                                    "0": "205",
                                    "1": "Shelley",
                                    "2": "12000.00"
                                },
                                {
                                    "0": "201",
                                    "1": "Michael",
                                    "2": "13000.00"
                                },
                                {
                                    "0": "146",
                                    "1": "Karen",
                                    "2": "13500.00"
                                },
                                {
                                    "0": "145",
                                    "1": "John",
                                    "2": "14000.00"
                                },
                                {
                                    "0": "101",
                                    "1": "Neena",
                                    "2": "17000.00"
                                },
                                {
                                    "0": "102",
                                    "1": "Lex",
                                    "2": "17000.00"
                                },
                                {
                                    "0": "100",
                                    "1": "Steven",
                                    "2": "24000.00"
                                }
                            ]
                        },
                        "text/html": "<table><tr><th>employee_id</th><th>first_name</th><th>salary</th></tr><tr><td>110</td><td>John</td><td>8200.00</td></tr><tr><td>121</td><td>Adam</td><td>8200.00</td></tr><tr><td>206</td><td>William</td><td>8300.00</td></tr><tr><td>177</td><td>Jack</td><td>8400.00</td></tr><tr><td>176</td><td>Jonathon</td><td>8600.00</td></tr><tr><td>109</td><td>Daniel</td><td>9000.00</td></tr><tr><td>103</td><td>Alexander</td><td>9000.00</td></tr><tr><td>204</td><td>Hermann</td><td>10000.00</td></tr><tr><td>114</td><td>Den</td><td>11000.00</td></tr><tr><td>108</td><td>Nancy</td><td>12000.00</td></tr><tr><td>205</td><td>Shelley</td><td>12000.00</td></tr><tr><td>201</td><td>Michael</td><td>13000.00</td></tr><tr><td>146</td><td>Karen</td><td>13500.00</td></tr><tr><td>145</td><td>John</td><td>14000.00</td></tr><tr><td>101</td><td>Neena</td><td>17000.00</td></tr><tr><td>102</td><td>Lex</td><td>17000.00</td></tr><tr><td>100</td><td>Steven</td><td>24000.00</td></tr></table>"
                    },
                    "metadata": {}
                }
            ],
            "execution_count": 14
        },
        {
            "cell_type": "code",
            "source": [
                "--Table3\r\n",
                "select employee_id as \"Employee Number\", last_name\r\n",
                "from employees\r\n",
                "where employee_id IN ('103','105','112','118','122','145')"
            ],
            "metadata": {
                "language": "sql",
                "azdata_cell_guid": "34ed4d62-1f79-4a30-82aa-b39a93ab8566",
                "tags": []
            },
            "outputs": [
                {
                    "output_type": "display_data",
                    "data": {
                        "text/html": "(6 rows affected)"
                    },
                    "metadata": {}
                },
                {
                    "output_type": "display_data",
                    "data": {
                        "text/html": "Total execution time: 00:00:00.005"
                    },
                    "metadata": {}
                },
                {
                    "output_type": "execute_result",
                    "execution_count": 15,
                    "data": {
                        "application/vnd.dataresource+json": {
                            "schema": {
                                "fields": [
                                    {
                                        "name": "Employee Number"
                                    },
                                    {
                                        "name": "last_name"
                                    }
                                ]
                            },
                            "data": [
                                {
                                    "0": "103",
                                    "1": "Hunold"
                                },
                                {
                                    "0": "105",
                                    "1": "Austin"
                                },
                                {
                                    "0": "112",
                                    "1": "Urman"
                                },
                                {
                                    "0": "118",
                                    "1": "Himuro"
                                },
                                {
                                    "0": "122",
                                    "1": "Kaufling"
                                },
                                {
                                    "0": "145",
                                    "1": "Russell"
                                }
                            ]
                        },
                        "text/html": "<table><tr><th>Employee Number</th><th>last_name</th></tr><tr><td>103</td><td>Hunold</td></tr><tr><td>105</td><td>Austin</td></tr><tr><td>112</td><td>Urman</td></tr><tr><td>118</td><td>Himuro</td></tr><tr><td>122</td><td>Kaufling</td></tr><tr><td>145</td><td>Russell</td></tr></table>"
                    },
                    "metadata": {}
                }
            ],
            "execution_count": 15
        },
        {
            "cell_type": "code",
            "source": [
                "--Table4\r\n",
                "select last_name,department_id as \"Department Number\",job_id\r\n",
                "from employees\r\n",
                "where department_id = \r\n",
                "(select department_id from departments where department_id = 4)"
            ],
            "metadata": {
                "language": "sql",
                "azdata_cell_guid": "66dd5d24-d8f6-4d5b-b80c-c0a64f35dbb6"
            },
            "outputs": [
                {
                    "output_type": "display_data",
                    "data": {
                        "text/html": "(1 row affected)"
                    },
                    "metadata": {}
                },
                {
                    "output_type": "display_data",
                    "data": {
                        "text/html": "Total execution time: 00:00:00.006"
                    },
                    "metadata": {}
                },
                {
                    "output_type": "execute_result",
                    "execution_count": 16,
                    "data": {
                        "application/vnd.dataresource+json": {
                            "schema": {
                                "fields": [
                                    {
                                        "name": "last_name"
                                    },
                                    {
                                        "name": "Department Number"
                                    },
                                    {
                                        "name": "job_id"
                                    }
                                ]
                            },
                            "data": [
                                {
                                    "0": "Mavris",
                                    "1": "4",
                                    "2": "8"
                                }
                            ]
                        },
                        "text/html": "<table><tr><th>last_name</th><th>Department Number</th><th>job_id</th></tr><tr><td>Mavris</td><td>4</td><td>8</td></tr></table>"
                    },
                    "metadata": {}
                }
            ],
            "execution_count": 16
        },
        {
            "cell_type": "code",
            "source": [
                "--Table5\r\n",
                "select last_name,salary \r\n",
                "from employees\r\n",
                "where salary = any\r\n",
                "(select salary from employees where salary between 6200.00 and 17000.00 )"
            ],
            "metadata": {
                "language": "sql",
                "azdata_cell_guid": "73f9453b-e288-4f75-a4ff-2fe513e44c20"
            },
            "outputs": [
                {
                    "output_type": "display_data",
                    "data": {
                        "text/html": "(25 rows affected)"
                    },
                    "metadata": {}
                },
                {
                    "output_type": "display_data",
                    "data": {
                        "text/html": "Total execution time: 00:00:00.011"
                    },
                    "metadata": {}
                },
                {
                    "output_type": "execute_result",
                    "execution_count": 17,
                    "data": {
                        "application/vnd.dataresource+json": {
                            "schema": {
                                "fields": [
                                    {
                                        "name": "last_name"
                                    },
                                    {
                                        "name": "salary"
                                    }
                                ]
                            },
                            "data": [
                                {
                                    "0": "Kochhar",
                                    "1": "17000.00"
                                },
                                {
                                    "0": "De Haan",
                                    "1": "17000.00"
                                },
                                {
                                    "0": "Hunold",
                                    "1": "9000.00"
                                },
                                {
                                    "0": "Greenberg",
                                    "1": "12000.00"
                                },
                                {
                                    "0": "Faviet",
                                    "1": "9000.00"
                                },
                                {
                                    "0": "Chen",
                                    "1": "8200.00"
                                },
                                {
                                    "0": "Sciarra",
                                    "1": "7700.00"
                                },
                                {
                                    "0": "Urman",
                                    "1": "7800.00"
                                },
                                {
                                    "0": "Popp",
                                    "1": "6900.00"
                                },
                                {
                                    "0": "Raphaely",
                                    "1": "11000.00"
                                },
                                {
                                    "0": "Weiss",
                                    "1": "8000.00"
                                },
                                {
                                    "0": "Fripp",
                                    "1": "8200.00"
                                },
                                {
                                    "0": "Kaufling",
                                    "1": "7900.00"
                                },
                                {
                                    "0": "Vollman",
                                    "1": "6500.00"
                                },
                                {
                                    "0": "Russell",
                                    "1": "14000.00"
                                },
                                {
                                    "0": "Partners",
                                    "1": "13500.00"
                                },
                                {
                                    "0": "Taylor",
                                    "1": "8600.00"
                                },
                                {
                                    "0": "Livingston",
                                    "1": "8400.00"
                                },
                                {
                                    "0": "Grant",
                                    "1": "7000.00"
                                },
                                {
                                    "0": "Johnson",
                                    "1": "6200.00"
                                },
                                {
                                    "0": "Hartstein",
                                    "1": "13000.00"
                                },
                                {
                                    "0": "Mavris",
                                    "1": "6500.00"
                                },
                                {
                                    "0": "Baer",
                                    "1": "10000.00"
                                },
                                {
                                    "0": "Higgins",
                                    "1": "12000.00"
                                },
                                {
                                    "0": "Gietz",
                                    "1": "8300.00"
                                }
                            ]
                        },
                        "text/html": "<table><tr><th>last_name</th><th>salary</th></tr><tr><td>Kochhar</td><td>17000.00</td></tr><tr><td>De Haan</td><td>17000.00</td></tr><tr><td>Hunold</td><td>9000.00</td></tr><tr><td>Greenberg</td><td>12000.00</td></tr><tr><td>Faviet</td><td>9000.00</td></tr><tr><td>Chen</td><td>8200.00</td></tr><tr><td>Sciarra</td><td>7700.00</td></tr><tr><td>Urman</td><td>7800.00</td></tr><tr><td>Popp</td><td>6900.00</td></tr><tr><td>Raphaely</td><td>11000.00</td></tr><tr><td>Weiss</td><td>8000.00</td></tr><tr><td>Fripp</td><td>8200.00</td></tr><tr><td>Kaufling</td><td>7900.00</td></tr><tr><td>Vollman</td><td>6500.00</td></tr><tr><td>Russell</td><td>14000.00</td></tr><tr><td>Partners</td><td>13500.00</td></tr><tr><td>Taylor</td><td>8600.00</td></tr><tr><td>Livingston</td><td>8400.00</td></tr><tr><td>Grant</td><td>7000.00</td></tr><tr><td>Johnson</td><td>6200.00</td></tr><tr><td>Hartstein</td><td>13000.00</td></tr><tr><td>Mavris</td><td>6500.00</td></tr><tr><td>Baer</td><td>10000.00</td></tr><tr><td>Higgins</td><td>12000.00</td></tr><tr><td>Gietz</td><td>8300.00</td></tr></table>"
                    },
                    "metadata": {}
                }
            ],
            "execution_count": 17
        },
        {
            "cell_type": "code",
            "source": [
                "--Table6\r\n",
                "select department_id as \"Department Number\",last_name,job_id\r\n",
                "from employees\r\n",
                "where department_id = 6"
            ],
            "metadata": {
                "language": "sql",
                "azdata_cell_guid": "4587d155-aba0-484c-9414-0986c0daf882"
            },
            "outputs": [
                {
                    "output_type": "display_data",
                    "data": {
                        "text/html": "(5 rows affected)"
                    },
                    "metadata": {}
                },
                {
                    "output_type": "display_data",
                    "data": {
                        "text/html": "Total execution time: 00:00:00.004"
                    },
                    "metadata": {}
                },
                {
                    "output_type": "execute_result",
                    "execution_count": 18,
                    "data": {
                        "application/vnd.dataresource+json": {
                            "schema": {
                                "fields": [
                                    {
                                        "name": "Department Number"
                                    },
                                    {
                                        "name": "last_name"
                                    },
                                    {
                                        "name": "job_id"
                                    }
                                ]
                            },
                            "data": [
                                {
                                    "0": "6",
                                    "1": "Hunold",
                                    "2": "9"
                                },
                                {
                                    "0": "6",
                                    "1": "Ernst",
                                    "2": "9"
                                },
                                {
                                    "0": "6",
                                    "1": "Austin",
                                    "2": "9"
                                },
                                {
                                    "0": "6",
                                    "1": "Pataballa",
                                    "2": "9"
                                },
                                {
                                    "0": "6",
                                    "1": "Lorentz",
                                    "2": "9"
                                }
                            ]
                        },
                        "text/html": "<table><tr><th>Department Number</th><th>last_name</th><th>job_id</th></tr><tr><td>6</td><td>Hunold</td><td>9</td></tr><tr><td>6</td><td>Ernst</td><td>9</td></tr><tr><td>6</td><td>Austin</td><td>9</td></tr><tr><td>6</td><td>Pataballa</td><td>9</td></tr><tr><td>6</td><td>Lorentz</td><td>9</td></tr></table>"
                    },
                    "metadata": {}
                }
            ],
            "execution_count": 18
        },
        {
            "cell_type": "code",
            "source": [
                "--Table7\r\n",
                "select employee_id,last_name,salary\r\n",
                "from employees\r\n",
                "where employee_id IN('103','145')"
            ],
            "metadata": {
                "language": "sql",
                "azdata_cell_guid": "a3b3f344-dfc0-47f9-80ba-fe66792ed872"
            },
            "outputs": [
                {
                    "output_type": "display_data",
                    "data": {
                        "text/html": "(2 rows affected)"
                    },
                    "metadata": {}
                },
                {
                    "output_type": "display_data",
                    "data": {
                        "text/html": "Total execution time: 00:00:00.005"
                    },
                    "metadata": {}
                },
                {
                    "output_type": "execute_result",
                    "execution_count": 19,
                    "data": {
                        "application/vnd.dataresource+json": {
                            "schema": {
                                "fields": [
                                    {
                                        "name": "employee_id"
                                    },
                                    {
                                        "name": "last_name"
                                    },
                                    {
                                        "name": "salary"
                                    }
                                ]
                            },
                            "data": [
                                {
                                    "0": "103",
                                    "1": "Hunold",
                                    "2": "9000.00"
                                },
                                {
                                    "0": "145",
                                    "1": "Russell",
                                    "2": "14000.00"
                                }
                            ]
                        },
                        "text/html": "<table><tr><th>employee_id</th><th>last_name</th><th>salary</th></tr><tr><td>103</td><td>Hunold</td><td>9000.00</td></tr><tr><td>145</td><td>Russell</td><td>14000.00</td></tr></table>"
                    },
                    "metadata": {}
                }
            ],
            "execution_count": 19
        },
        {
            "cell_type": "code",
            "source": [
                "--Table8\r\n",
                "select first_name from employees\r\n",
                "where first_name IN ('john','karen','jonathon','jack','kimberely','charels')"
            ],
            "metadata": {
                "language": "sql",
                "azdata_cell_guid": "4bfd3ec2-c7cd-426c-a376-ca7ac8d6d830"
            },
            "outputs": [
                {
                    "output_type": "display_data",
                    "data": {
                        "text/html": "(7 rows affected)"
                    },
                    "metadata": {}
                },
                {
                    "output_type": "display_data",
                    "data": {
                        "text/html": "Total execution time: 00:00:00.005"
                    },
                    "metadata": {}
                },
                {
                    "output_type": "execute_result",
                    "execution_count": 20,
                    "data": {
                        "application/vnd.dataresource+json": {
                            "schema": {
                                "fields": [
                                    {
                                        "name": "first_name"
                                    }
                                ]
                            },
                            "data": [
                                {
                                    "0": "John"
                                },
                                {
                                    "0": "Karen"
                                },
                                {
                                    "0": "John"
                                },
                                {
                                    "0": "Karen"
                                },
                                {
                                    "0": "Jonathon"
                                },
                                {
                                    "0": "Jack"
                                },
                                {
                                    "0": "Kimberely"
                                }
                            ]
                        },
                        "text/html": "<table><tr><th>first_name</th></tr><tr><td>John</td></tr><tr><td>Karen</td></tr><tr><td>John</td></tr><tr><td>Karen</td></tr><tr><td>Jonathon</td></tr><tr><td>Jack</td></tr><tr><td>Kimberely</td></tr></table>"
                    },
                    "metadata": {}
                }
            ],
            "execution_count": 20
        },
        {
            "cell_type": "code",
            "source": [
                "--Table9\r\n",
                "select last_name, salary from employees\r\n",
                "where last_name IN ('king','kochhar','de haan')"
            ],
            "metadata": {
                "language": "sql",
                "azdata_cell_guid": "8f8af050-b20b-4604-b939-d16a5315d290"
            },
            "outputs": [
                {
                    "output_type": "display_data",
                    "data": {
                        "text/html": "(3 rows affected)"
                    },
                    "metadata": {}
                },
                {
                    "output_type": "display_data",
                    "data": {
                        "text/html": "Total execution time: 00:00:00.006"
                    },
                    "metadata": {}
                },
                {
                    "output_type": "execute_result",
                    "execution_count": 21,
                    "data": {
                        "application/vnd.dataresource+json": {
                            "schema": {
                                "fields": [
                                    {
                                        "name": "last_name"
                                    },
                                    {
                                        "name": "salary"
                                    }
                                ]
                            },
                            "data": [
                                {
                                    "0": "King",
                                    "1": "24000.00"
                                },
                                {
                                    "0": "Kochhar",
                                    "1": "17000.00"
                                },
                                {
                                    "0": "De Haan",
                                    "1": "17000.00"
                                }
                            ]
                        },
                        "text/html": "<table><tr><th>last_name</th><th>salary</th></tr><tr><td>King</td><td>24000.00</td></tr><tr><td>Kochhar</td><td>17000.00</td></tr><tr><td>De Haan</td><td>17000.00</td></tr></table>"
                    },
                    "metadata": {}
                }
            ],
            "execution_count": 21
        },
        {
            "cell_type": "code",
            "source": [
                "--Table10\r\n",
                "select first_name,salary,department_id from employees\r\n",
                "where  first_name IN ('neena','lex','john')\r\n",
                "AND department_id IN ('9','8')"
            ],
            "metadata": {
                "language": "sql",
                "azdata_cell_guid": "bec7897a-6537-4b8f-b870-0b85928d45e4"
            },
            "outputs": [
                {
                    "output_type": "display_data",
                    "data": {
                        "text/html": "(3 rows affected)"
                    },
                    "metadata": {}
                },
                {
                    "output_type": "display_data",
                    "data": {
                        "text/html": "Total execution time: 00:00:00.006"
                    },
                    "metadata": {}
                },
                {
                    "output_type": "execute_result",
                    "execution_count": 22,
                    "data": {
                        "application/vnd.dataresource+json": {
                            "schema": {
                                "fields": [
                                    {
                                        "name": "first_name"
                                    },
                                    {
                                        "name": "salary"
                                    },
                                    {
                                        "name": "department_id"
                                    }
                                ]
                            },
                            "data": [
                                {
                                    "0": "Neena",
                                    "1": "17000.00",
                                    "2": "9"
                                },
                                {
                                    "0": "Lex",
                                    "1": "17000.00",
                                    "2": "9"
                                },
                                {
                                    "0": "John",
                                    "1": "14000.00",
                                    "2": "8"
                                }
                            ]
                        },
                        "text/html": "<table><tr><th>first_name</th><th>salary</th><th>department_id</th></tr><tr><td>Neena</td><td>17000.00</td><td>9</td></tr><tr><td>Lex</td><td>17000.00</td><td>9</td></tr><tr><td>John</td><td>14000.00</td><td>8</td></tr></table>"
                    },
                    "metadata": {}
                }
            ],
            "execution_count": 22
        }
    ]
}